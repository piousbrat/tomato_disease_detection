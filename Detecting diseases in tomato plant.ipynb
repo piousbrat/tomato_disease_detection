{
 "cells": [
  {
   "cell_type": "markdown",
   "metadata": {},
   "source": [
    "# Importing the required Keras dependancies"
   ]
  },
  {
   "cell_type": "code",
   "execution_count": 18,
   "metadata": {},
   "outputs": [],
   "source": [
    "from keras.models import Sequential\n",
    "from keras.layers.convolutional import Convolution2D\n",
    "from keras.layers.convolutional import MaxPooling2D\n",
    "from keras.layers.core import Activation\n",
    "from keras.layers.core import Flatten\n",
    "from keras.layers.core import Dense\n",
    "import keras\n",
    "from keras import regularizers, optimizers\n",
    "from keras.layers import Conv2D,Input,Dense,MaxPooling2D,BatchNormalization,ZeroPadding2D,Flatten,Dropout\n",
    "from keras.models import Model\n",
    "from keras.utils import np_utils\n",
    "from keras.preprocessing.image import ImageDataGenerator\n",
    "from keras.callbacks import ReduceLROnPlateau, CSVLogger,EarlyStopping,ModelCheckpoint"
   ]
  },
  {
   "cell_type": "markdown",
   "metadata": {},
   "source": [
    "# Other dependancies"
   ]
  },
  {
   "cell_type": "code",
   "execution_count": 19,
   "metadata": {},
   "outputs": [],
   "source": [
    "import numpy as np\n",
    "import matplotlib.pyplot as plt\n",
    "import cv2\n",
    "from numpy.random import permutation"
   ]
  },
  {
   "cell_type": "code",
   "execution_count": 20,
   "metadata": {},
   "outputs": [],
   "source": [
    "def LeNet_Model():\n",
    "    # creating a sequential model\n",
    "    model = Sequential()\n",
    "    \n",
    "    # adding first set of CONV -> RELU -> POOL\n",
    "    model.add(Convolution2D(20, 5, 5, border_mode=\"same\",input_shape=(60, 60,3))) # 3,60,60 tha pehle\n",
    "    model.add(Dropout(0.2))\n",
    "    model.add(Activation(\"relu\"))\n",
    "    model.add(MaxPooling2D(pool_size=(2, 2), strides=(2, 2)))\n",
    "\n",
    "    # adding second set of CONV -> RELU -> POOL\n",
    "    model.add(Convolution2D(50, 5, 5, border_mode=\"same\"))\n",
    "    model.add(Dropout(0.2))\n",
    "    model.add(Activation(\"relu\"))\n",
    "    model.add(MaxPooling2D(pool_size=(2,2),strides=(2, 2),dim_ordering='th')) # specifying the order of dimensions\n",
    "\n",
    "    # adding set of FC -> RELU layers\n",
    "    model.add(Flatten())\n",
    "    model.add(Dense(500))\n",
    "    model.add(Dropout(0.2))\n",
    "    model.add(Activation(\"relu\"))\n",
    " \n",
    "    # adding softmax classifier\n",
    "    model.add(Dense(7))          # 7 categories\n",
    "    model.add(Dropout(0.2))\n",
    "    model.add(Activation(\"softmax\"))\n",
    "        \n",
    "    return model"
   ]
  },
  {
   "cell_type": "markdown",
   "metadata": {},
   "source": [
    "# Creating the model"
   ]
  },
  {
   "cell_type": "code",
   "execution_count": 21,
   "metadata": {},
   "outputs": [
    {
     "name": "stderr",
     "output_type": "stream",
     "text": [
      "c:\\users\\tanmay jain\\appdata\\local\\programs\\python\\python37\\lib\\site-packages\\ipykernel_launcher.py:6: UserWarning: Update your `Conv2D` call to the Keras 2 API: `Conv2D(20, (5, 5), input_shape=(60, 60, 3..., padding=\"same\")`\n",
      "  \n",
      "c:\\users\\tanmay jain\\appdata\\local\\programs\\python\\python37\\lib\\site-packages\\ipykernel_launcher.py:12: UserWarning: Update your `Conv2D` call to the Keras 2 API: `Conv2D(50, (5, 5), padding=\"same\")`\n",
      "  if sys.path[0] == '':\n",
      "c:\\users\\tanmay jain\\appdata\\local\\programs\\python\\python37\\lib\\site-packages\\ipykernel_launcher.py:15: UserWarning: Update your `MaxPooling2D` call to the Keras 2 API: `MaxPooling2D(pool_size=(2, 2), strides=(2, 2), data_format=\"channels_first\")`\n",
      "  from ipykernel import kernelapp as app\n"
     ]
    }
   ],
   "source": [
    "model= LeNet_Model()"
   ]
  },
  {
   "cell_type": "markdown",
   "metadata": {},
   "source": [
    "# Creating a summary of various layers and total parameters"
   ]
  },
  {
   "cell_type": "code",
   "execution_count": 22,
   "metadata": {},
   "outputs": [
    {
     "name": "stdout",
     "output_type": "stream",
     "text": [
      "Model: \"sequential_2\"\n",
      "_________________________________________________________________\n",
      "Layer (type)                 Output Shape              Param #   \n",
      "=================================================================\n",
      "conv2d_3 (Conv2D)            (None, 60, 60, 20)        1520      \n",
      "_________________________________________________________________\n",
      "dropout_5 (Dropout)          (None, 60, 60, 20)        0         \n",
      "_________________________________________________________________\n",
      "activation_5 (Activation)    (None, 60, 60, 20)        0         \n",
      "_________________________________________________________________\n",
      "max_pooling2d_3 (MaxPooling2 (None, 30, 30, 20)        0         \n",
      "_________________________________________________________________\n",
      "conv2d_4 (Conv2D)            (None, 30, 30, 50)        25050     \n",
      "_________________________________________________________________\n",
      "dropout_6 (Dropout)          (None, 30, 30, 50)        0         \n",
      "_________________________________________________________________\n",
      "activation_6 (Activation)    (None, 30, 30, 50)        0         \n",
      "_________________________________________________________________\n",
      "max_pooling2d_4 (MaxPooling2 (None, 30, 15, 25)        0         \n",
      "_________________________________________________________________\n",
      "flatten_2 (Flatten)          (None, 11250)             0         \n",
      "_________________________________________________________________\n",
      "dense_3 (Dense)              (None, 500)               5625500   \n",
      "_________________________________________________________________\n",
      "dropout_7 (Dropout)          (None, 500)               0         \n",
      "_________________________________________________________________\n",
      "activation_7 (Activation)    (None, 500)               0         \n",
      "_________________________________________________________________\n",
      "dense_4 (Dense)              (None, 7)                 3507      \n",
      "_________________________________________________________________\n",
      "dropout_8 (Dropout)          (None, 7)                 0         \n",
      "_________________________________________________________________\n",
      "activation_8 (Activation)    (None, 7)                 0         \n",
      "=================================================================\n",
      "Total params: 5,655,577\n",
      "Trainable params: 5,655,577\n",
      "Non-trainable params: 0\n",
      "_________________________________________________________________\n"
     ]
    }
   ],
   "source": [
    "model.summary()"
   ]
  },
  {
   "cell_type": "markdown",
   "metadata": {},
   "source": [
    "# Loading the train images and labels"
   ]
  },
  {
   "cell_type": "code",
   "execution_count": 23,
   "metadata": {},
   "outputs": [],
   "source": [
    "train_images = np.load('train_images_lenet.npy')\n",
    "train_labels = np.load('train_labels_lenet.npy')"
   ]
  },
  {
   "cell_type": "code",
   "execution_count": 24,
   "metadata": {},
   "outputs": [
    {
     "data": {
      "text/plain": [
       "(6359, 60, 60, 3)"
      ]
     },
     "execution_count": 24,
     "metadata": {},
     "output_type": "execute_result"
    }
   ],
   "source": [
    "train_images.shape # 6359 images of 60x60 resolution and 3 channels"
   ]
  },
  {
   "cell_type": "code",
   "execution_count": 25,
   "metadata": {},
   "outputs": [
    {
     "data": {
      "text/plain": [
       "(6359,)"
      ]
     },
     "execution_count": 25,
     "metadata": {},
     "output_type": "execute_result"
    }
   ],
   "source": [
    "train_labels.shape"
   ]
  },
  {
   "cell_type": "code",
   "execution_count": 26,
   "metadata": {},
   "outputs": [
    {
     "data": {
      "text/plain": [
       "array([ 591,  592,  590,   24,  372,  592, 3598], dtype=int64)"
      ]
     },
     "execution_count": 26,
     "metadata": {},
     "output_type": "execute_result"
    }
   ],
   "source": [
    "np.unique(train_labels)\n",
    "np.bincount(train_labels)"
   ]
  },
  {
   "cell_type": "markdown",
   "metadata": {},
   "source": [
    "# Callbacks"
   ]
  },
  {
   "cell_type": "code",
   "execution_count": 27,
   "metadata": {},
   "outputs": [],
   "source": [
    "# Reduce learning rate when a metric has stopped improving.\n",
    "lr_reducer = ReduceLROnPlateau(factor = np.sqrt(0.1), cooldown=0, patience=2, min_lr=0.5e-6)\n",
    "\n",
    "# Callback that streams epoch results to a csv file\n",
    "csv_logger = CSVLogger('Lenet.csv')\n",
    "\n",
    "# Stop training when a monitored quantity has stopped improving.\n",
    "early_stopper = EarlyStopping(min_delta=0.001,patience=30)\n",
    "\n",
    "# Save the model after every epoch.\n",
    "model_checkpoint = ModelCheckpoint('Lenet.hdf5',monitor = 'val_loss', verbose = 1,save_best_only=True)"
   ]
  },
  {
   "cell_type": "code",
   "execution_count": 28,
   "metadata": {},
   "outputs": [],
   "source": [
    "# Test pretrained model\n",
    "train_images = np.array(train_images)\n",
    "train_labels = np.array(train_labels)\n",
    "mean = np.mean(train_images,axis=(0,1,2,3))\n",
    "std = np.std(train_images,axis=(0,1,2,3))\n",
    "train_images = (train_images-mean)/(std+1e-7)\n",
    "num_classes = 7\n",
    "train_labels = np_utils.to_categorical(train_labels-1,num_classes)"
   ]
  },
  {
   "cell_type": "code",
   "execution_count": 29,
   "metadata": {},
   "outputs": [
    {
     "data": {
      "text/plain": [
       "((6359, 60, 60, 3), (6359, 7))"
      ]
     },
     "execution_count": 29,
     "metadata": {},
     "output_type": "execute_result"
    }
   ],
   "source": [
    "train_images.shape, train_labels.shape"
   ]
  },
  {
   "cell_type": "markdown",
   "metadata": {},
   "source": [
    "# Randomly distributing train_images to make train_images and val_images"
   ]
  },
  {
   "cell_type": "code",
   "execution_count": 30,
   "metadata": {},
   "outputs": [],
   "source": [
    "perm = permutation(len(train_images))\n",
    "train_images = train_images[perm]\n",
    "train_labels = train_labels[perm]\n",
    "new_train = train_images[1:4800]\n",
    "new_labels = train_labels[1:4800]\n",
    "val_images= train_images[4800:]\n",
    "val_labels = train_labels[4800:]"
   ]
  },
  {
   "cell_type": "code",
   "execution_count": 31,
   "metadata": {},
   "outputs": [
    {
     "data": {
      "text/plain": [
       "((4799, 60, 60, 3), (1559, 60, 60, 3))"
      ]
     },
     "execution_count": 31,
     "metadata": {},
     "output_type": "execute_result"
    }
   ],
   "source": [
    "new_train.shape,val_images.shape"
   ]
  },
  {
   "cell_type": "markdown",
   "metadata": {},
   "source": [
    "# Compiling the model"
   ]
  },
  {
   "cell_type": "code",
   "execution_count": 32,
   "metadata": {},
   "outputs": [],
   "source": [
    "model.compile(loss='categorical_crossentropy',\n",
    "        optimizer=\"Adam\",\n",
    "        metrics=['accuracy'])"
   ]
  },
  {
   "cell_type": "markdown",
   "metadata": {},
   "source": [
    "# Preprocessing and data augmentation"
   ]
  },
  {
   "cell_type": "code",
   "execution_count": 33,
   "metadata": {},
   "outputs": [],
   "source": [
    "datagen = ImageDataGenerator(\n",
    "        featurewise_center=False,  # set input mean to 0 over the dataset\n",
    "        samplewise_center=False,  # set each sample mean to 0\n",
    "        featurewise_std_normalization=False,  # divide inputs by std of the dataset\n",
    "        samplewise_std_normalization=False,  # divide each input by its std\n",
    "        zca_whitening=False,  # apply ZCA whitening\n",
    "        rotation_range=20,  # randomly rotate images in the range (degrees, 0 to 180)\n",
    "        width_shift_range=0.1,  # randomly shift images horizontally (fraction of total width)\n",
    "        height_shift_range=0.1,  # randomly shift images vertically (fraction of total height)\n",
    "        horizontal_flip=True,  # randomly flip images\n",
    "        vertical_flip=False)  # randomly flip images"
   ]
  },
  {
   "cell_type": "markdown",
   "metadata": {},
   "source": [
    "# Fitting the train data"
   ]
  },
  {
   "cell_type": "code",
   "execution_count": 34,
   "metadata": {},
   "outputs": [
    {
     "name": "stdout",
     "output_type": "stream",
     "text": [
      "Epoch 1/30\n",
      "399/399 [==============================] - 82s 207ms/step - loss: 0.8167 - accuracy: 0.6915 - val_loss: 0.3392 - val_accuracy: 0.8948\n",
      "Epoch 2/30\n",
      "399/399 [==============================] - 84s 211ms/step - loss: 0.5053 - accuracy: 0.7859 - val_loss: 0.2909 - val_accuracy: 0.8974\n",
      "Epoch 3/30\n",
      "399/399 [==============================] - 84s 211ms/step - loss: 0.4224 - accuracy: 0.8099 - val_loss: 0.1932 - val_accuracy: 0.9294\n",
      "Epoch 4/30\n",
      "399/399 [==============================] - 85s 213ms/step - loss: 0.4000 - accuracy: 0.8141 - val_loss: 0.1891 - val_accuracy: 0.9391\n",
      "Epoch 5/30\n",
      "399/399 [==============================] - 83s 208ms/step - loss: 0.3507 - accuracy: 0.8306 - val_loss: 0.1468 - val_accuracy: 0.9500\n",
      "Epoch 6/30\n",
      "399/399 [==============================] - 223s 559ms/step - loss: 0.2908 - accuracy: 0.8525 - val_loss: 0.1941 - val_accuracy: 0.9352\n",
      "Epoch 7/30\n",
      "399/399 [==============================] - 85s 213ms/step - loss: 0.3416 - accuracy: 0.8377 - val_loss: 0.1280 - val_accuracy: 0.9647\n",
      "Epoch 8/30\n",
      "399/399 [==============================] - 89s 222ms/step - loss: 0.2840 - accuracy: 0.8534 - val_loss: 0.1212 - val_accuracy: 0.9602\n",
      "Epoch 9/30\n",
      "399/399 [==============================] - 85s 212ms/step - loss: 0.2658 - accuracy: 0.8527 - val_loss: 0.1170 - val_accuracy: 0.9564\n",
      "Epoch 10/30\n",
      "399/399 [==============================] - 77s 192ms/step - loss: 0.2717 - accuracy: 0.8659 - val_loss: 0.1315 - val_accuracy: 0.9609\n",
      "Epoch 11/30\n",
      "399/399 [==============================] - 73s 183ms/step - loss: 0.2274 - accuracy: 0.8713 - val_loss: 0.1420 - val_accuracy: 0.9602\n",
      "Epoch 12/30\n",
      "399/399 [==============================] - 80s 202ms/step - loss: 0.3921 - accuracy: 0.8270 - val_loss: 0.1014 - val_accuracy: 0.9737\n",
      "Epoch 13/30\n",
      "399/399 [==============================] - 83s 207ms/step - loss: 0.2325 - accuracy: 0.8611 - val_loss: 0.0608 - val_accuracy: 0.9852\n",
      "Epoch 14/30\n",
      "399/399 [==============================] - 85s 213ms/step - loss: 0.2241 - accuracy: 0.8678 - val_loss: 0.0933 - val_accuracy: 0.9743\n",
      "Epoch 15/30\n",
      "399/399 [==============================] - 89s 222ms/step - loss: 0.2369 - accuracy: 0.8651 - val_loss: 0.1064 - val_accuracy: 0.9705\n",
      "Epoch 16/30\n",
      "399/399 [==============================] - 83s 208ms/step - loss: 0.2517 - accuracy: 0.8600 - val_loss: 0.0948 - val_accuracy: 0.9724\n",
      "Epoch 17/30\n",
      "399/399 [==============================] - 83s 209ms/step - loss: 0.2374 - accuracy: 0.8669 - val_loss: 0.1021 - val_accuracy: 0.9769\n",
      "Epoch 18/30\n",
      "399/399 [==============================] - 80s 201ms/step - loss: 0.2290 - accuracy: 0.8657 - val_loss: 0.0820 - val_accuracy: 0.9801\n",
      "Epoch 19/30\n",
      "399/399 [==============================] - 80s 200ms/step - loss: 0.2302 - accuracy: 0.8688 - val_loss: 0.0721 - val_accuracy: 0.9814\n",
      "Epoch 20/30\n",
      "399/399 [==============================] - 76s 189ms/step - loss: 0.2413 - accuracy: 0.8642 - val_loss: 0.0790 - val_accuracy: 0.9763\n",
      "Epoch 21/30\n",
      "399/399 [==============================] - 80s 200ms/step - loss: 0.2291 - accuracy: 0.8688 - val_loss: 0.1128 - val_accuracy: 0.9750\n",
      "Epoch 22/30\n",
      "399/399 [==============================] - 89s 224ms/step - loss: 0.2594 - accuracy: 0.8636 - val_loss: 0.1887 - val_accuracy: 0.9455\n",
      "Epoch 23/30\n",
      "399/399 [==============================] - 98s 245ms/step - loss: 0.2099 - accuracy: 0.8686 - val_loss: 0.0727 - val_accuracy: 0.9827\n",
      "Epoch 24/30\n",
      "399/399 [==============================] - 97s 244ms/step - loss: 0.2054 - accuracy: 0.8726 - val_loss: 0.0818 - val_accuracy: 0.9840\n",
      "Epoch 25/30\n",
      "399/399 [==============================] - 101s 252ms/step - loss: 0.2397 - accuracy: 0.8667 - val_loss: 0.1468 - val_accuracy: 0.9647\n",
      "Epoch 26/30\n",
      "399/399 [==============================] - 95s 239ms/step - loss: 0.2266 - accuracy: 0.8636 - val_loss: 0.0708 - val_accuracy: 0.9840\n",
      "Epoch 27/30\n",
      "399/399 [==============================] - 101s 253ms/step - loss: 0.2066 - accuracy: 0.8768 - val_loss: 0.1326 - val_accuracy: 0.9679\n",
      "Epoch 28/30\n",
      "399/399 [==============================] - 99s 248ms/step - loss: 0.1956 - accuracy: 0.8728 - val_loss: 0.1166 - val_accuracy: 0.9679\n",
      "Epoch 29/30\n",
      "399/399 [==============================] - 101s 252ms/step - loss: 0.2299 - accuracy: 0.8686 - val_loss: 0.0845 - val_accuracy: 0.9840\n",
      "Epoch 30/30\n",
      "399/399 [==============================] - 98s 245ms/step - loss: 0.2139 - accuracy: 0.8713 - val_loss: 0.0821 - val_accuracy: 0.9852\n"
     ]
    }
   ],
   "source": [
    "datagen.fit(new_train)\n",
    "history = model.fit_generator(datagen.flow(new_train, new_labels, batch_size=12),\n",
    "                        steps_per_epoch=new_train.shape[0] // 12,\n",
    "                        epochs=30,\n",
    "                        verbose=1,\n",
    "                        validation_data=(val_images,val_labels))"
   ]
  },
  {
   "cell_type": "code",
   "execution_count": 35,
   "metadata": {},
   "outputs": [],
   "source": [
    "import matplotlib.pyplot as plt "
   ]
  },
  {
   "cell_type": "code",
   "execution_count": 36,
   "metadata": {},
   "outputs": [
    {
     "data": {
      "image/png": "[encoded data removed]",
      "text/plain": [
       "<Figure size 432x288 with 1 Axes>"
      ]
     },
     "metadata": {
      "needs_background": "light"
     },
     "output_type": "display_data"
    }
   ],
   "source": [
    "plt.plot(history.history['accuracy'])\n",
    "plt.plot(history.history['val_accuracy'])\n",
    "plt.title('model accuracy')\n",
    "plt.ylabel('accuracy')\n",
    "plt.xlabel('epoch')\n",
    "plt.legend(['train', 'test'], loc='upper left')\n",
    "plt.show()"
   ]
  },
  {
   "cell_type": "code",
   "execution_count": 37,
   "metadata": {},
   "outputs": [
    {
     "data": {
      "image/png": "[encoded data removed]",
      "text/plain": [
       "<Figure size 432x288 with 1 Axes>"
      ]
     },
     "metadata": {
      "needs_background": "light"
     },
     "output_type": "display_data"
    }
   ],
   "source": [
    "plt.plot(history.history['loss'])\n",
    "plt.plot(history.history['val_loss'])\n",
    "plt.title('model loss')\n",
    "plt.ylabel('loss')\n",
    "plt.xlabel('epoch')\n",
    "plt.legend(['train', 'test'], loc='upper left')\n",
    "plt.show()"
   ]
  },
  {
   "cell_type": "markdown",
   "metadata": {},
   "source": [
    "# Saving the model"
   ]
  },
  {
   "cell_type": "code",
   "execution_count": 38,
   "metadata": {},
   "outputs": [],
   "source": [
    "model.save('Tomato_diseases.h5')"
   ]
  },
  {
   "cell_type": "markdown",
   "metadata": {},
   "source": [
    "# Loading the saved model"
   ]
  },
  {
   "cell_type": "code",
   "execution_count": 39,
   "metadata": {},
   "outputs": [
    {
     "data": {
      "text/plain": [
       "<keras.engine.sequential.Sequential at 0x1af92bcb240>"
      ]
     },
     "execution_count": 39,
     "metadata": {},
     "output_type": "execute_result"
    }
   ],
   "source": [
    "from keras.models import load_model\n",
    "\n",
    "loaded_model= load_model('Tomato_diseases.h5')\n",
    "loaded_model"
   ]
  },
  {
   "cell_type": "code",
   "execution_count": 40,
   "metadata": {},
   "outputs": [],
   "source": [
    "class_names = {0:'bacterial_spot',1:'Healthy',2:'late_blight',3:'leaf_mold',4:'mosaic_virus',5:'septorial_leaf_spot',\n",
    "               6:'yellow_curved'}"
   ]
  },
  {
   "cell_type": "markdown",
   "metadata": {},
   "source": [
    "# Testing the model with random images of leaves"
   ]
  },
  {
   "cell_type": "code",
   "execution_count": 45,
   "metadata": {},
   "outputs": [
    {
     "name": "stdout",
     "output_type": "stream",
     "text": [
      "[[1.4761086e-20 2.9160475e-14 1.1559460e-25 1.0085815e-15 1.4715865e-15\n",
      "  1.0000000e+00 3.3229973e-14]]\n",
      "5\n",
      "yellow_curved\n"
     ]
    }
   ],
   "source": [
    "#path = r'C:\\Users\\Tanmay Jain\\Desktop\\tomato_disease_detection\\dataset\\septoriaLeafSpot\\sep20.jpg'\n",
    "path = r'C:\\Users\\Tanmay Jain\\Desktop\\tomato_disease_detection\\dataset\\yellowcurved\\y1.jpg'\n",
    "#path = r'C:\\Users\\Tanmay Jain\\Desktop\\tomato_disease_detection\\dataset\\Healthy\\l2.png'\n",
    "input_img= cv2.imread(path,1)\n",
    "#cv2.imshow('image',input_img)\n",
    "#print(input_img)\n",
    "if input_img is not None:\n",
    "    img = cv2.resize(input_img, (60,60)).astype(np.float32)\n",
    "            \n",
    "else:\n",
    "    print(\"image not loaded\")\n",
    "    \n",
    "img = (img-mean)/(std+1e-7)\n",
    "img = np.expand_dims(img, axis=0)  \n",
    "out = loaded_model.predict(img) \n",
    "print(out)\n",
    "print(np.argmax(out))\n",
    "print(class_names[np.argmax(out)+1])\n",
    "# Correct!"
   ]
  },
  {
   "cell_type": "code",
   "execution_count": 74,
   "metadata": {},
   "outputs": [
    {
     "name": "stdout",
     "output_type": "stream",
     "text": [
      "[[9.9999440e-01 5.0773920e-06 1.6903053e-13 6.8682126e-13 5.6567009e-09\n",
      "  3.3427767e-07 1.2227036e-07]]\n",
      "0\n",
      "bacterial_spot\n"
     ]
    }
   ],
   "source": [
    "#path = r'C:\\Users\\Tanmay Jain\\Desktop\\tomato_disease_detection\\dataset\\septoriaLeafSpot\\sep20.jpg'\n",
    "#input_img= cv2.imread('dataset\\late_blight\\Il0.png', 1)\n",
    "path= r'C:\\Users\\Tanmay Jain\\Desktop\\Datasets\\tomato-disease-detection\\dataset\\ healthy\\h587.png'\n",
    "input_img1= cv2.imread(path,1)\n",
    "\n",
    "\n",
    "if input_img1 is not None:\n",
    "    img = cv2.resize(input_img1,(60,60)).astype(np.float32)\n",
    "else:\n",
    "    print(\"image not loaded\")\n",
    "    \n",
    "img = (img-mean)/(std+1e-7)\n",
    "img = np.expand_dims(img, axis=0)  \n",
    "out = loaded_model.predict(img) \n",
    "print(out)\n",
    "print(np.argmax(out))\n",
    "print(class_names[np.argmax(out)])\n",
    "# Correct"
   ]
  },
  {
   "cell_type": "markdown",
   "metadata": {},
   "source": []
  },
  {
   "cell_type": "code",
   "execution_count": null,
   "metadata": {},
   "outputs": [],
   "source": []
  }
 ],
 "metadata": {
  "kernelspec": {
   "display_name": "Python 3",
   "language": "python",
   "name": "python3"
  },
  "language_info": {
   "codemirror_mode": {
    "name": "ipython",
    "version": 3
   },
   "file_extension": ".py",
   "mimetype": "text/x-python",
   "name": "python",
   "nbconvert_exporter": "python",
   "pygments_lexer": "ipython3",
   "version": "3.7.3"
  }
 },
 "nbformat": 4,
 "nbformat_minor": 2
}
