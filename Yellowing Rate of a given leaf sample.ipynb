{
 "cells": [
  {
   "cell_type": "code",
   "execution_count": 1,
   "metadata": {},
   "outputs": [],
   "source": [
    "import cv2\n",
    "import numpy as np\n",
    "import matplotlib.pyplot as plt"
   ]
  },
  {
   "cell_type": "code",
   "execution_count": 2,
   "metadata": {},
   "outputs": [],
   "source": [
    "img = cv2.imread(\"/Users/Tanmay Jain/Desktop/tomato_disease_detection/leaf2.png\", cv2.IMREAD_COLOR)"
   ]
  },
  {
   "cell_type": "code",
   "execution_count": 3,
   "metadata": {},
   "outputs": [],
   "source": [
    "#function to display the image since the process is tedious with multiple lines of code for compatibility in Jupyter Notebooks\n",
    "# the kernel will stop working if you simply close an image, you have to press a random key on the keyboard to successfully close the image file\n",
    "# opened after this function is executed\n",
    "\n",
    "def show(img, title=\"img\"):\n",
    "    cv2.imshow(title, img)\n",
    "    cv2.waitKey()\n",
    "    cv2.destroyAllWindows()"
   ]
  },
  {
   "cell_type": "code",
   "execution_count": 4,
   "metadata": {},
   "outputs": [],
   "source": [
    "blur = cv2.blur(img, (3,3))\n",
    "gray = cv2.cvtColor(blur, cv2.COLOR_BGR2GRAY)\n",
    "THRESH_VAL = 180 # variable\n",
    "ret, thresh = cv2.threshold(gray, THRESH_VAL, 255, cv2.THRESH_BINARY)\n",
    "\n",
    "show(thresh, title=\"Thresholded Image\")"
   ]
  },
  {
   "cell_type": "code",
   "execution_count": 5,
   "metadata": {},
   "outputs": [],
   "source": [
    "THRESH_VAL2 = 230\n",
    "ret, thresh2 = cv2.threshold(gray, THRESH_VAL2, 255, cv2.THRESH_BINARY)\n",
    "show(thresh2, title=\"Thresholded Image\")"
   ]
  },
  {
   "cell_type": "code",
   "execution_count": 6,
   "metadata": {},
   "outputs": [],
   "source": [
    "contours_leaf, hierarchy = cv2.findContours(thresh2, \n",
    "                                       cv2.RETR_TREE, \n",
    "                                        cv2.CHAIN_APPROX_SIMPLE)"
   ]
  },
  {
   "cell_type": "code",
   "execution_count": 7,
   "metadata": {},
   "outputs": [],
   "source": [
    "contours_var, hierarchy = cv2.findContours(thresh, \n",
    "                                       cv2.RETR_TREE, \n",
    "                                        cv2.CHAIN_APPROX_SIMPLE)"
   ]
  },
  {
   "cell_type": "code",
   "execution_count": 8,
   "metadata": {},
   "outputs": [
    {
     "name": "stdout",
     "output_type": "stream",
     "text": [
      "Length of contours: 8\n",
      "Length of contours: 162\n"
     ]
    }
   ],
   "source": [
    "print(\"Length of contours: {}\".format(len(contours_leaf)))\n",
    "print(\"Length of contours: {}\".format(len(contours_var)))"
   ]
  },
  {
   "cell_type": "code",
   "execution_count": 9,
   "metadata": {},
   "outputs": [],
   "source": [
    "drawing_leaf = np.zeros((thresh.shape[0], thresh.shape[1], 3), np.uint8)\n",
    "color_contours = (0, 255, 0) # color for contours\n",
    "for i in range(len(contours_leaf)):\n",
    "    cv2.drawContours(drawing_leaf, contours_leaf, i, color_contours, 2, 8)"
   ]
  },
  {
   "cell_type": "code",
   "execution_count": 10,
   "metadata": {},
   "outputs": [],
   "source": [
    "drawing_var = np.zeros((thresh.shape[0], thresh.shape[1], 3), np.uint8)\n",
    "color_contours = (0, 255, 0) # color for contours\n",
    "for i in range(len(contours_var)):\n",
    "    cv2.drawContours(drawing_var, contours_var, i, color_contours, 2, 8)"
   ]
  },
  {
   "cell_type": "code",
   "execution_count": 11,
   "metadata": {},
   "outputs": [],
   "source": [
    "areas_leaf = []\n",
    "areas_var = []\n",
    "for i in range(len(contours_leaf)):\n",
    "    areas_leaf.append(cv2.contourArea(contours_leaf[i]))\n",
    "for i in range(len(contours_var)):\n",
    "    areas_var.append(cv2.contourArea(contours_var[i]))\n",
    "\n",
    "areas_leaf.remove(max(areas_leaf))\n",
    "areas_var.remove(max(areas_var))"
   ]
  },
  {
   "cell_type": "code",
   "execution_count": 12,
   "metadata": {},
   "outputs": [],
   "source": [
    "ar_lf = 2*max(areas_leaf)\n",
    "ar_var = 2*max(areas_var)\n",
    "for i in range(len(areas_leaf)):\n",
    "    ar_lf -= areas_leaf[i]\n",
    "for i in range(len(areas_var)):\n",
    "    ar_var -= areas_var[i]"
   ]
  },
  {
   "cell_type": "code",
   "execution_count": 13,
   "metadata": {},
   "outputs": [
    {
     "name": "stdout",
     "output_type": "stream",
     "text": [
      "Area of the entire leaf is 129144.5\n",
      "Area of the leaf without the yellow spots is 104498.5\n"
     ]
    }
   ],
   "source": [
    "print(\"Area of the entire leaf is {}\".format(ar_lf))\n",
    "print(\"Area of the leaf without the yellow spots is {}\".format(ar_var))"
   ]
  },
  {
   "cell_type": "code",
   "execution_count": 16,
   "metadata": {},
   "outputs": [
    {
     "name": "stdout",
     "output_type": "stream",
     "text": [
      "The ratio of the areas (with and without the yellowing) is: 0.8091595073735235\n"
     ]
    }
   ],
   "source": [
    "print(\"The ratio of the areas (with and without the yellowing) is: {}\".format(ar_var/ar_lf))"
   ]
  },
  {
   "cell_type": "code",
   "execution_count": null,
   "metadata": {},
   "outputs": [],
   "source": []
  }
 ],
 "metadata": {
  "kernelspec": {
   "display_name": "Python 3",
   "language": "python",
   "name": "python3"
  },
  "language_info": {
   "codemirror_mode": {
    "name": "ipython",
    "version": 3
   },
   "file_extension": ".py",
   "mimetype": "text/x-python",
   "name": "python",
   "nbconvert_exporter": "python",
   "pygments_lexer": "ipython3",
   "version": "3.7.3"
  }
 },
 "nbformat": 4,
 "nbformat_minor": 2
}
